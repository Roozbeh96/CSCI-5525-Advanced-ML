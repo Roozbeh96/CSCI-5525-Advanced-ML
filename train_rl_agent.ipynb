{
 "cells": [
  {
   "cell_type": "code",
   "execution_count": 1,
   "id": "d41b927d-bf52-4c86-9283-255073725096",
   "metadata": {},
   "outputs": [],
   "source": [
    "import torch\n",
    "import torch.nn as nn\n",
    "import torch.optim as optim\n",
    "import torch.nn.functional as F\n",
    "from torch.utils.data import DataLoader, random_split, TensorDataset\n",
    "import numpy as np\n",
    "import random"
   ]
  },
  {
   "cell_type": "code",
   "execution_count": 2,
   "id": "710936b5-2a44-45ef-b40c-b4bbeee1b046",
   "metadata": {},
   "outputs": [],
   "source": [
    "class RLAgent(nn.Module):\n",
    "    def __init__(self, state_size, action_size):\n",
    "        super(RLAgent, self).__init__()\n",
    "        self.fc1 = nn.Linear(state_size, 128)\n",
    "        self.fc2 = nn.Linear(128, 64)\n",
    "        self.fc3 = nn.Linear(64, action_size)\n",
    "\n",
    "    def forward(self, state):\n",
    "        x = F.relu(self.fc1(state))\n",
    "        x = F.relu(self.fc2(x))\n",
    "        return self.fc3(x)\n",
    "\n",
    "    def calculate_state(self, loss, gradients, optimizer_state):\n",
    "        grad_norm = sum(g.norm().item() for g in gradients if g is not None)\n",
    "        return torch.tensor([loss.item(), grad_norm, optimizer_state], dtype=torch.float32)\n",
    "\n",
    "    def calculate_reward(self, previous_loss, current_loss):\n",
    "        return current_loss - previous_loss"
   ]
  },
  {
   "cell_type": "code",
   "execution_count": 3,
   "id": "646b2602-f59e-494c-aa41-873c804cdabc",
   "metadata": {},
   "outputs": [],
   "source": [
    "class SimpleNet(nn.Module):\n",
    "    def __init__(self, input_size, output_size):\n",
    "        super(SimpleNet, self).__init__()\n",
    "        self.fc1 = nn.Linear(input_size, 128)\n",
    "        self.fc2 = nn.Linear(128, 64)\n",
    "        self.fc3 = nn.Linear(64, output_size)\n",
    "\n",
    "    def forward(self, x):\n",
    "        x = F.relu(self.fc1(x))\n",
    "        x = F.relu(self.fc2(x))\n",
    "        return self.fc3(x)"
   ]
  },
  {
   "cell_type": "code",
   "execution_count": 4,
   "id": "67b062fa-6677-4ae3-b20e-0e46ae7411ae",
   "metadata": {},
   "outputs": [],
   "source": [
    "import pandas as pd\n",
    "from sklearn.feature_extraction.text import CountVectorizer"
   ]
  },
  {
   "cell_type": "code",
   "execution_count": 5,
   "id": "b6cade0e-56a4-46be-8835-ce62ecf72413",
   "metadata": {},
   "outputs": [],
   "source": [
    "train = pd.read_csv('train.csv')\n",
    "test = pd.read_csv('test.csv')"
   ]
  },
  {
   "cell_type": "code",
   "execution_count": 6,
   "id": "9bc7d901-4156-429b-8a00-22a0eca862d3",
   "metadata": {},
   "outputs": [],
   "source": [
    "tokenizer = CountVectorizer(max_features=1000)\n",
    "data = tokenizer.fit_transform(train['text']).toarray()\n",
    "labels = train['author'].astype('category').cat.codes\n",
    "data = torch.tensor(data, dtype=torch.float32)\n",
    "labels = torch.tensor(labels.values, dtype=torch.long)"
   ]
  },
  {
   "cell_type": "code",
   "execution_count": 7,
   "id": "7c953902-f4b4-4602-b0a1-7e560f750b52",
   "metadata": {},
   "outputs": [],
   "source": [
    "dataset = TensorDataset(data, labels)\n",
    "train_size = int(0.8 * len(dataset))\n",
    "val_size = len(dataset) - train_size\n",
    "train_dataset, val_dataset = random_split(dataset, [train_size, val_size])\n",
    "train_loader = DataLoader(train_dataset, batch_size=32, shuffle=True)\n",
    "val_loader = DataLoader(val_dataset, batch_size=32, shuffle=False)"
   ]
  },
  {
   "cell_type": "code",
   "execution_count": 8,
   "id": "e34a5b04-a282-412d-9435-4437d385a8ff",
   "metadata": {},
   "outputs": [],
   "source": [
    "input_size = data.shape[1]\n",
    "output_size = len(train['author'].unique())\n",
    "model = SimpleNet(input_size, output_size)\n",
    "criterion = nn.CrossEntropyLoss()\n",
    "adopt_optimizer = optim.Adam(model.parameters(), lr=0.001)\n",
    "sgd_optimizer = optim.SGD(model.parameters(), lr=0.01)\n",
    "rl_agent = RLAgent(state_size=3, action_size=2)  # state=  [loss, grad_norm, optimizer_state]; Actions: [adam, SGD]\n",
    "rl_optimizer = optim.Adam(rl_agent.parameters(), lr=0.001)"
   ]
  },
  {
   "cell_type": "code",
   "execution_count": null,
   "id": "4b3362c7-314d-4ef4-acff-e77a838a8113",
   "metadata": {},
   "outputs": [],
   "source": [
    "def train_model(epochs, previous_loss):\n",
    "    for epoch in range(epochs):\n",
    "        model.train()\n",
    "        epoch_loss = 0.0\n",
    "        optimizer_state = 0\n",
    "        for batch_idx, (inputs, targets) in enumerate(train_loader):\n",
    "            inputs, targets = inputs.float(), targets\n",
    "            outputs = model(inputs)\n",
    "            loss = criterion(outputs, targets)\n",
    "            gradients = torch.autograd.grad(loss, model.parameters(), retain_graph=True)\n",
    "            state = rl_agent.calculate_state(loss, gradients, optimizer_state)\n",
    "\n",
    "            # RL agent's decision\n",
    "            action_values = rl_agent(state)\n",
    "            action = torch.argmax(action_values).item()\n",
    "\n",
    "            if action == 0:\n",
    "                optimizer = adopt_optimizer\n",
    "                # print('Using ADOPT')\n",
    "            else:\n",
    "                optimizer = sgd_optimizer\n",
    "                # print('Using SGD')\n",
    "\n",
    "            optimizer.zero_grad()\n",
    "            loss.backward()\n",
    "            optimizer.step()\n",
    "            reward = rl_agent.calculate_reward(previous_loss, loss.item())\n",
    "            previous_loss = loss.item()\n",
    "\n",
    "            # update RL agent\n",
    "            target = reward + torch.max(action_values).detach()\n",
    "            rl_loss = F.mse_loss(action_values[action], target)\n",
    "            rl_optimizer.zero_grad()\n",
    "            rl_loss.backward()\n",
    "            rl_optimizer.step()\n",
    "            epoch_loss += loss.item()\n",
    "        print(f\"Epoch {epoch + 1}/{epochs}, Loss: {epoch_loss / len(train_loader):.4f}\")"
   ]
  },
  {
   "cell_type": "code",
   "execution_count": 19,
   "id": "6288011b-2127-4faa-a852-c3bcd84b92db",
   "metadata": {},
   "outputs": [],
   "source": [
    "def train_model_rl(epochs, previous_loss):\n",
    "    for epoch in range(epochs):\n",
    "        model.train()\n",
    "        epoch_loss = 0.0\n",
    "        optimizer_state = 0\n",
    "        for batch_idx, (inputs, targets) in enumerate(train_loader):\n",
    "            inputs, targets = inputs.float(), targets\n",
    "            outputs = model(inputs)\n",
    "            loss = criterion(outputs, targets)\n",
    "            gradients = torch.autograd.grad(loss, model.parameters(), retain_graph=True)\n",
    "            state = rl_agent.calculate_state(loss, gradients, optimizer_state)\n",
    "\n",
    "            # RL agent's decision\n",
    "            action_values = rl_agent(state)\n",
    "            action = torch.argmax(action_values).item()\n",
    "\n",
    "            if action == 0:\n",
    "                optimizer = adopt_optimizer\n",
    "                # print('Using ADOPT')\n",
    "            else:\n",
    "                optimizer = sgd_optimizer\n",
    "                # print('Using SGD')\n",
    "\n",
    "            optimizer.zero_grad()\n",
    "            loss.backward()\n",
    "            optimizer.step()\n",
    "            reward = rl_agent.calculate_reward(previous_loss, loss.item())\n",
    "            previous_loss = loss.item()\n",
    "\n",
    "            # update RL agent\n",
    "            target = reward + torch.max(action_values).detach()\n",
    "            rl_loss = F.mse_loss(action_values[action], target)\n",
    "            rl_optimizer.zero_grad()\n",
    "            rl_loss.backward()\n",
    "            rl_optimizer.step()\n",
    "            epoch_loss += loss.item()\n",
    "        print(f\"Epoch {epoch + 1}/{epochs}, Loss: {epoch_loss / len(train_loader):.4f}\")"
   ]
  },
  {
   "cell_type": "code",
   "execution_count": 25,
   "id": "f8aef3e7-827c-44fd-ae73-860b04b2b681",
   "metadata": {},
   "outputs": [
    {
     "name": "stdout",
     "output_type": "stream",
     "text": [
      "Epoch 1/50, Loss: 0.0022\n",
      "Epoch 2/50, Loss: 0.0020\n",
      "Epoch 3/50, Loss: 0.0211\n",
      "Epoch 4/50, Loss: 0.0132\n",
      "Epoch 5/50, Loss: 0.0050\n",
      "Epoch 6/50, Loss: 0.0023\n",
      "Epoch 7/50, Loss: 0.0021\n",
      "Epoch 8/50, Loss: 0.0020\n",
      "Epoch 9/50, Loss: 0.0020\n",
      "Epoch 10/50, Loss: 0.0019\n",
      "Epoch 11/50, Loss: 0.0020\n",
      "Epoch 12/50, Loss: 0.0020\n",
      "Epoch 13/50, Loss: 0.0021\n",
      "Epoch 14/50, Loss: 0.0021\n",
      "Epoch 15/50, Loss: 0.0020\n",
      "Epoch 16/50, Loss: 0.0020\n",
      "Epoch 17/50, Loss: 0.0020\n",
      "Epoch 18/50, Loss: 0.0020\n",
      "Epoch 19/50, Loss: 0.0020\n",
      "Epoch 20/50, Loss: 0.0020\n",
      "Epoch 21/50, Loss: 0.0021\n",
      "Epoch 22/50, Loss: 0.0020\n",
      "Epoch 23/50, Loss: 0.0072\n",
      "Epoch 24/50, Loss: 0.0307\n",
      "Epoch 25/50, Loss: 0.0080\n",
      "Epoch 26/50, Loss: 0.0021\n",
      "Epoch 27/50, Loss: 0.0019\n",
      "Epoch 28/50, Loss: 0.0019\n",
      "Epoch 29/50, Loss: 0.0018\n",
      "Epoch 30/50, Loss: 0.0019\n",
      "Epoch 31/50, Loss: 0.0019\n",
      "Epoch 32/50, Loss: 0.0019\n",
      "Epoch 33/50, Loss: 0.0020\n",
      "Epoch 34/50, Loss: 0.0019\n",
      "Epoch 35/50, Loss: 0.0019\n",
      "Epoch 36/50, Loss: 0.0021\n",
      "Epoch 37/50, Loss: 0.0019\n",
      "Epoch 38/50, Loss: 0.0019\n",
      "Epoch 39/50, Loss: 0.0021\n",
      "Epoch 40/50, Loss: 0.0024\n",
      "Epoch 41/50, Loss: 0.0202\n",
      "Epoch 42/50, Loss: 0.0059\n",
      "Epoch 43/50, Loss: 0.0025\n",
      "Epoch 44/50, Loss: 0.0019\n",
      "Epoch 45/50, Loss: 0.0018\n",
      "Epoch 46/50, Loss: 0.0019\n",
      "Epoch 47/50, Loss: 0.0018\n",
      "Epoch 48/50, Loss: 0.0019\n",
      "Epoch 49/50, Loss: 0.0018\n",
      "Epoch 50/50, Loss: 0.0020\n"
     ]
    }
   ],
   "source": [
    "train_model(50, 100)"
   ]
  },
  {
   "cell_type": "code",
   "execution_count": 21,
   "id": "2f449830-78f6-43ac-90e2-641d14235e6a",
   "metadata": {},
   "outputs": [],
   "source": [
    "def calculate_accuracy(model, data_loader):\n",
    "    model.eval()\n",
    "    correct_predictions = 0\n",
    "    total_samples = 0\n",
    "\n",
    "    with torch.no_grad():\n",
    "        for inputs, targets in data_loader:\n",
    "            inputs, targets = inputs.float(), targets\n",
    "            outputs = model(inputs)\n",
    "            _, predicted = torch.max(outputs, 1)\n",
    "            correct_predictions += (predicted == targets).sum().item()\n",
    "            total_samples += targets.size(0)\n",
    "\n",
    "    accuracy = correct_predictions / total_samples\n",
    "    return accuracy"
   ]
  },
  {
   "cell_type": "code",
   "execution_count": 22,
   "id": "46688ce7-6dff-4302-8fed-b6b95c8db391",
   "metadata": {},
   "outputs": [
    {
     "data": {
      "text/plain": [
       "0.6973953013278856"
      ]
     },
     "execution_count": 22,
     "metadata": {},
     "output_type": "execute_result"
    }
   ],
   "source": [
    "calculate_accuracy(model, val_loader)"
   ]
  },
  {
   "cell_type": "code",
   "execution_count": null,
   "id": "82603f35-7033-40b1-856c-dbb05e1373c6",
   "metadata": {},
   "outputs": [],
   "source": []
  }
 ],
 "metadata": {
  "kernelspec": {
   "display_name": "Python 3 (ipykernel)",
   "language": "python",
   "name": "python3"
  },
  "language_info": {
   "codemirror_mode": {
    "name": "ipython",
    "version": 3
   },
   "file_extension": ".py",
   "mimetype": "text/x-python",
   "name": "python",
   "nbconvert_exporter": "python",
   "pygments_lexer": "ipython3",
   "version": "3.10.14"
  }
 },
 "nbformat": 4,
 "nbformat_minor": 5
}

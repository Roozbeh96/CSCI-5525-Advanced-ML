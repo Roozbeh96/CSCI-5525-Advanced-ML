{
 "cells": [
  {
   "cell_type": "code",
   "execution_count": 1,
   "id": "d41b927d-bf52-4c86-9283-255073725096",
   "metadata": {},
   "outputs": [],
   "source": [
    "import torch\n",
    "import torch.nn as nn\n",
    "import torch.optim as optim\n",
    "import torch.nn.functional as F\n",
    "from torch.utils.data import DataLoader, random_split, TensorDataset\n",
    "import numpy as np\n",
    "import random"
   ]
  },
  {
   "cell_type": "code",
   "execution_count": 2,
   "id": "710936b5-2a44-45ef-b40c-b4bbeee1b046",
   "metadata": {},
   "outputs": [],
   "source": [
    "class RLAgent(nn.Module):\n",
    "    def __init__(self, state_size, action_size):\n",
    "        super(RLAgent, self).__init__()\n",
    "        self.fc1 = nn.Linear(state_size, 128)\n",
    "        self.fc2 = nn.Linear(128, 64)\n",
    "        self.fc3 = nn.Linear(64, action_size)\n",
    "\n",
    "    def forward(self, state):\n",
    "        x = F.relu(self.fc1(state))\n",
    "        x = F.relu(self.fc2(x))\n",
    "        return self.fc3(x)\n",
    "\n",
    "    def calculate_state(loss, gradients, optimizer_state):\n",
    "        grad_norm = sum(g.norm().item() for g in gradients if g is not None)\n",
    "        return torch.tensor([loss.item(), grad_norm, optimizer_state], dtype=torch.float32)\n",
    "\n",
    "    def calculate_reward(previous_loss, current_loss):\n",
    "        return current_loss - previous_loss"
   ]
  },
  {
   "cell_type": "code",
   "execution_count": 3,
   "id": "646b2602-f59e-494c-aa41-873c804cdabc",
   "metadata": {},
   "outputs": [],
   "source": [
    "class SimpleNet(nn.Module):\n",
    "    def __init__(self, input_size, output_size):\n",
    "        super(SimpleNet, self).__init__()\n",
    "        self.fc1 = nn.Linear(input_size, 128)\n",
    "        self.fc2 = nn.Linear(128, 64)\n",
    "        self.fc3 = nn.Linear(64, output_size)\n",
    "\n",
    "    def forward(self, x):\n",
    "        x = F.relu(self.fc1(x))\n",
    "        x = F.relu(self.fc2(x))\n",
    "        return self.fc3(x)"
   ]
  },
  {
   "cell_type": "code",
   "execution_count": 7,
   "id": "67b062fa-6677-4ae3-b20e-0e46ae7411ae",
   "metadata": {},
   "outputs": [],
   "source": [
    "import pandas as pd\n",
    "from sklearn.feature_extraction.text import CountVectorizer"
   ]
  },
  {
   "cell_type": "code",
   "execution_count": 8,
   "id": "b6cade0e-56a4-46be-8835-ce62ecf72413",
   "metadata": {},
   "outputs": [],
   "source": [
    "train = pd.read_csv('train.csv')\n",
    "test = pd.read_csv('test.csv')"
   ]
  },
  {
   "cell_type": "code",
   "execution_count": 12,
   "id": "9bc7d901-4156-429b-8a00-22a0eca862d3",
   "metadata": {},
   "outputs": [],
   "source": [
    "tokenizer = CountVectorizer(max_features=1000)\n",
    "data = tokenizer.fit_transform(train['text']).toarray()\n",
    "labels = train['author'].astype('category').cat.codes\n",
    "data = torch.tensor(data, dtype=torch.float32)\n",
    "labels = torch.tensor(labels.values, dtype=torch.long)"
   ]
  },
  {
   "cell_type": "code",
   "execution_count": 17,
   "id": "7c953902-f4b4-4602-b0a1-7e560f750b52",
   "metadata": {},
   "outputs": [],
   "source": [
    "dataset = TensorDataset(data, labels)\n",
    "train_size = int(0.8 * len(dataset))\n",
    "val_size = len(dataset) - train_size\n",
    "train_dataset, val_dataset = random_split(dataset, [train_size, val_size])\n",
    "train_loader = DataLoader(train_dataset, batch_size=32, shuffle=True)\n",
    "val_loader = DataLoader(val_dataset, batch_size=32, shuffle=False)"
   ]
  },
  {
   "cell_type": "code",
   "execution_count": 18,
   "id": "e34a5b04-a282-412d-9435-4437d385a8ff",
   "metadata": {},
   "outputs": [],
   "source": [
    "input_size = data.shape[1]\n",
    "output_size = len(train['author'].unique())\n",
    "model = SimpleNet(input_size, output_size)\n",
    "criterion = nn.CrossEntropyLoss()\n",
    "adopt_optimizer = optim.Adam(model.parameters(), lr=0.001)\n",
    "sgd_optimizer = optim.SGD(model.parameters(), lr=0.01)\n",
    "rl_agent = RLAgent(state_size=3, action_size=2)  # state=  [loss, grad_norm, optimizer_state]; Actions: [adam, SGD]\n",
    "rl_optimizer = optim.Adam(rl_agent.parameters(), lr=0.001)"
   ]
  },
  {
   "cell_type": "code",
   "execution_count": 21,
   "id": "6288011b-2127-4faa-a852-c3bcd84b92db",
   "metadata": {},
   "outputs": [],
   "source": [
    "epochs = 10\n",
    "previous_loss = float('inf')\n",
    "def train_model():\n",
    "    for epoch in range(epochs):\n",
    "        model.train()\n",
    "        epoch_loss = 0.0\n",
    "        optimizer_state = 0\n",
    "        for batch_idx, (inputs, targets) in enumerate(train_loader):\n",
    "            inputs, targets = inputs.float(), targets\n",
    "            outputs = model(inputs)\n",
    "            loss = criterion(outputs, targets)\n",
    "            gradients = torch.autograd.grad(loss, model.parameters(), retain_graph=True)\n",
    "            state = compute_state(loss, gradients, optimizer_state)\n",
    "\n",
    "            # RL agent's decision\n",
    "            action_values = rl_agent(state)\n",
    "            action = torch.argmax(action_values).item()\n",
    "\n",
    "            if action == 0:\n",
    "                optimizer = adopt_optimizer\n",
    "                print('Using ADOPT')\n",
    "            else:\n",
    "                optimizer = sgd_optimizer\n",
    "                print('Using SGD')\n",
    "\n",
    "            optimizer.zero_grad()\n",
    "            loss.backward()\n",
    "            optimizer.step()\n",
    "            reward = compute_reward(previous_loss, loss.item())\n",
    "            previous_loss = loss.item()\n",
    "\n",
    "            # update RL agent\n",
    "            target = reward + torch.max(action_values).detach()\n",
    "            rl_loss = F.mse_loss(action_values[action], target)\n",
    "            rl_optimizer.zero_grad()\n",
    "            rl_loss.backward()\n",
    "            rl_optimizer.step()\n",
    "            epoch_loss += loss.item()\n",
    "        print(f\"Epoch {epoch + 1}/{epochs}, Loss: {epoch_loss / len(train_loader):.4f}\")"
   ]
  },
  {
   "cell_type": "code",
   "execution_count": null,
   "id": "f8aef3e7-827c-44fd-ae73-860b04b2b681",
   "metadata": {},
   "outputs": [],
   "source": []
  }
 ],
 "metadata": {
  "kernelspec": {
   "display_name": "Python 3 (ipykernel)",
   "language": "python",
   "name": "python3"
  },
  "language_info": {
   "codemirror_mode": {
    "name": "ipython",
    "version": 3
   },
   "file_extension": ".py",
   "mimetype": "text/x-python",
   "name": "python",
   "nbconvert_exporter": "python",
   "pygments_lexer": "ipython3",
   "version": "3.10.14"
  }
 },
 "nbformat": 4,
 "nbformat_minor": 5
}
